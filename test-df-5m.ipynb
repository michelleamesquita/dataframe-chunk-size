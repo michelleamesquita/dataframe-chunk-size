{
 "cells": [
  {
   "cell_type": "code",
   "execution_count": 1,
   "id": "3f9bc9fc",
   "metadata": {},
   "outputs": [],
   "source": [
    "%%capture\n",
    "pip install pandas"
   ]
  },
  {
   "cell_type": "code",
   "execution_count": 2,
   "id": "0a37c832",
   "metadata": {},
   "outputs": [],
   "source": [
    "%%capture\n",
    "pip install great_expectations"
   ]
  },
  {
   "cell_type": "code",
   "execution_count": 3,
   "id": "b17c8d5b",
   "metadata": {},
   "outputs": [],
   "source": [
    "import pandas as pd\n",
    "import great_expectations as ge"
   ]
  },
  {
   "cell_type": "code",
   "execution_count": 4,
   "id": "db33d073",
   "metadata": {},
   "outputs": [
    {
     "name": "stdout",
     "output_type": "stream",
     "text": [
      "                         Region  Country        Item Type Sales Channel  \\\n",
      "0         Australia and Oceania    Palau  Office Supplies        Online   \n",
      "1                        Europe   Poland        Beverages        Online   \n",
      "2                 North America   Canada           Cereal        Online   \n",
      "3                        Europe  Belarus           Snacks        Online   \n",
      "4  Middle East and North Africa     Oman           Cereal       Offline   \n",
      "\n",
      "  Order Priority Order Date   Order ID  Ship Date  Units Sold  Unit Price  \\\n",
      "0              H   3/6/2016  517073523  3/26/2016        2401      651.21   \n",
      "1              L  4/18/2010  380507028  5/26/2010        9340       47.45   \n",
      "2              M   1/8/2015  504055583  1/31/2015         103      205.70   \n",
      "3              C  1/19/2014  954955518  2/27/2014        1414      152.58   \n",
      "4              H  4/26/2019  970755660   6/2/2019        7027      205.70   \n",
      "\n",
      "   Unit Cost  Total Revenue  Total Cost  Total Profit  \n",
      "0     524.96     1563555.21  1260428.96     303126.25  \n",
      "1      31.79      443183.00   296918.60     146264.40  \n",
      "2     117.11       21187.10    12062.33       9124.77  \n",
      "3      97.44      215748.12   137780.16      77967.96  \n",
      "4     117.11     1445453.90   822931.97     622521.93  \n"
     ]
    }
   ],
   "source": [
    "df_test = pd.read_csv ('./sales-record.csv')\n",
    "print(df_test.head())"
   ]
  },
  {
   "cell_type": "code",
   "execution_count": 5,
   "id": "871f4b2d",
   "metadata": {},
   "outputs": [
    {
     "data": {
      "text/plain": [
       "Index(['Region', 'Country', 'Item Type', 'Sales Channel', 'Order Priority',\n",
       "       'Order Date', 'Order ID', 'Ship Date', 'Units Sold', 'Unit Price',\n",
       "       'Unit Cost', 'Total Revenue', 'Total Cost', 'Total Profit'],\n",
       "      dtype='object')"
      ]
     },
     "execution_count": 5,
     "metadata": {},
     "output_type": "execute_result"
    }
   ],
   "source": [
    "df_test.columns"
   ]
  },
  {
   "cell_type": "code",
   "execution_count": 6,
   "id": "1b172cfc",
   "metadata": {},
   "outputs": [
    {
     "name": "stdout",
     "output_type": "stream",
     "text": [
      "<class 'pandas.core.frame.DataFrame'>\n",
      "RangeIndex: 5000000 entries, 0 to 4999999\n",
      "Data columns (total 14 columns):\n",
      " #   Column          Dtype  \n",
      "---  ------          -----  \n",
      " 0   Region          object \n",
      " 1   Country         object \n",
      " 2   Item Type       object \n",
      " 3   Sales Channel   object \n",
      " 4   Order Priority  object \n",
      " 5   Order Date      object \n",
      " 6   Order ID        int64  \n",
      " 7   Ship Date       object \n",
      " 8   Units Sold      int64  \n",
      " 9   Unit Price      float64\n",
      " 10  Unit Cost       float64\n",
      " 11  Total Revenue   float64\n",
      " 12  Total Cost      float64\n",
      " 13  Total Profit    float64\n",
      "dtypes: float64(5), int64(2), object(7)\n",
      "memory usage: 534.1+ MB\n"
     ]
    }
   ],
   "source": [
    "df_test.info()"
   ]
  },
  {
   "cell_type": "code",
   "execution_count": 7,
   "id": "222cd684",
   "metadata": {},
   "outputs": [
    {
     "data": {
      "text/plain": [
       "0          517073523\n",
       "1          380507028\n",
       "2          504055583\n",
       "3          954955518\n",
       "4          970755660\n",
       "             ...    \n",
       "4999995    940436398\n",
       "4999996    407689177\n",
       "4999997    727000367\n",
       "4999998    714043796\n",
       "4999999    604805791\n",
       "Name: Order ID, Length: 5000000, dtype: int64"
      ]
     },
     "execution_count": 7,
     "metadata": {},
     "output_type": "execute_result"
    }
   ],
   "source": [
    "df_test['Order ID'].astype(str).astype(int)"
   ]
  },
  {
   "cell_type": "code",
   "execution_count": 8,
   "id": "8c89a111",
   "metadata": {},
   "outputs": [
    {
     "name": "stdout",
     "output_type": "stream",
     "text": [
      "<pandas.io.parsers.readers.TextFileReader object at 0x7fe531d4e520>\n"
     ]
    }
   ],
   "source": [
    "df_chunk = pd.read_csv ('./sales-record.csv', chunksize = 1000000)\n",
    "print (df_chunk)"
   ]
  },
  {
   "cell_type": "code",
   "execution_count": 9,
   "id": "283a17fd",
   "metadata": {},
   "outputs": [],
   "source": [
    "i= 0 \n",
    "chunk_list = [] "
   ]
  },
  {
   "cell_type": "code",
   "execution_count": 10,
   "id": "656815d7",
   "metadata": {},
   "outputs": [],
   "source": [
    "def chunk_preprocessing(chunk,column):\n",
    "    return chunk[[column,'Country','Unit Price','Order ID','Order Date']]"
   ]
  },
  {
   "cell_type": "code",
   "execution_count": 11,
   "id": "c319fce1",
   "metadata": {},
   "outputs": [],
   "source": [
    "def create_df(df_chunk,chunk_list,i):\n",
    "    for chunk in df_chunk:\n",
    "        chunk_filter = chunk_preprocessing(chunk,'Region')\n",
    "        i+=100000\n",
    "        print(i)\n",
    "        chunk_list.append(chunk_filter)\n",
    "    return chunk_list"
   ]
  },
  {
   "cell_type": "code",
   "execution_count": 12,
   "id": "c97d5c61",
   "metadata": {},
   "outputs": [
    {
     "name": "stdout",
     "output_type": "stream",
     "text": [
      "100000\n",
      "200000\n",
      "300000\n",
      "400000\n",
      "500000\n"
     ]
    }
   ],
   "source": [
    "\n",
    "chunk_list = create_df(df_chunk,chunk_list,i)\n",
    "\n",
    "data_df = pd.concat(chunk_list)\n",
    "data_df['Order ID'].astype(str).astype(int)\n",
    "data_df.index = range(len(data_df))\n"
   ]
  },
  {
   "cell_type": "code",
   "execution_count": 13,
   "id": "8a7a0616",
   "metadata": {},
   "outputs": [
    {
     "data": {
      "text/html": [
       "<div>\n",
       "<style scoped>\n",
       "    .dataframe tbody tr th:only-of-type {\n",
       "        vertical-align: middle;\n",
       "    }\n",
       "\n",
       "    .dataframe tbody tr th {\n",
       "        vertical-align: top;\n",
       "    }\n",
       "\n",
       "    .dataframe thead th {\n",
       "        text-align: right;\n",
       "    }\n",
       "</style>\n",
       "<table border=\"1\" class=\"dataframe\">\n",
       "  <thead>\n",
       "    <tr style=\"text-align: right;\">\n",
       "      <th></th>\n",
       "      <th>Region</th>\n",
       "      <th>Country</th>\n",
       "      <th>Unit Price</th>\n",
       "      <th>Order ID</th>\n",
       "      <th>Order Date</th>\n",
       "    </tr>\n",
       "  </thead>\n",
       "  <tbody>\n",
       "    <tr>\n",
       "      <th>0</th>\n",
       "      <td>Australia and Oceania</td>\n",
       "      <td>Palau</td>\n",
       "      <td>651.21</td>\n",
       "      <td>517073523</td>\n",
       "      <td>3/6/2016</td>\n",
       "    </tr>\n",
       "    <tr>\n",
       "      <th>1</th>\n",
       "      <td>Europe</td>\n",
       "      <td>Poland</td>\n",
       "      <td>47.45</td>\n",
       "      <td>380507028</td>\n",
       "      <td>4/18/2010</td>\n",
       "    </tr>\n",
       "    <tr>\n",
       "      <th>2</th>\n",
       "      <td>North America</td>\n",
       "      <td>Canada</td>\n",
       "      <td>205.70</td>\n",
       "      <td>504055583</td>\n",
       "      <td>1/8/2015</td>\n",
       "    </tr>\n",
       "    <tr>\n",
       "      <th>3</th>\n",
       "      <td>Europe</td>\n",
       "      <td>Belarus</td>\n",
       "      <td>152.58</td>\n",
       "      <td>954955518</td>\n",
       "      <td>1/19/2014</td>\n",
       "    </tr>\n",
       "    <tr>\n",
       "      <th>4</th>\n",
       "      <td>Middle East and North Africa</td>\n",
       "      <td>Oman</td>\n",
       "      <td>205.70</td>\n",
       "      <td>970755660</td>\n",
       "      <td>4/26/2019</td>\n",
       "    </tr>\n",
       "    <tr>\n",
       "      <th>...</th>\n",
       "      <td>...</td>\n",
       "      <td>...</td>\n",
       "      <td>...</td>\n",
       "      <td>...</td>\n",
       "      <td>...</td>\n",
       "    </tr>\n",
       "    <tr>\n",
       "      <th>4999995</th>\n",
       "      <td>Middle East and North Africa</td>\n",
       "      <td>Iraq</td>\n",
       "      <td>668.27</td>\n",
       "      <td>940436398</td>\n",
       "      <td>3/17/2014</td>\n",
       "    </tr>\n",
       "    <tr>\n",
       "      <th>4999996</th>\n",
       "      <td>Europe</td>\n",
       "      <td>Monaco</td>\n",
       "      <td>421.89</td>\n",
       "      <td>407689177</td>\n",
       "      <td>11/8/2015</td>\n",
       "    </tr>\n",
       "    <tr>\n",
       "      <th>4999997</th>\n",
       "      <td>Australia and Oceania</td>\n",
       "      <td>Solomon Islands</td>\n",
       "      <td>109.28</td>\n",
       "      <td>727000367</td>\n",
       "      <td>6/1/2020</td>\n",
       "    </tr>\n",
       "    <tr>\n",
       "      <th>4999998</th>\n",
       "      <td>Australia and Oceania</td>\n",
       "      <td>Marshall Islands</td>\n",
       "      <td>437.20</td>\n",
       "      <td>714043796</td>\n",
       "      <td>2/12/2020</td>\n",
       "    </tr>\n",
       "    <tr>\n",
       "      <th>4999999</th>\n",
       "      <td>Europe</td>\n",
       "      <td>Greece</td>\n",
       "      <td>651.21</td>\n",
       "      <td>604805791</td>\n",
       "      <td>5/11/2019</td>\n",
       "    </tr>\n",
       "  </tbody>\n",
       "</table>\n",
       "<p>5000000 rows × 5 columns</p>\n",
       "</div>"
      ],
      "text/plain": [
       "                               Region           Country  Unit Price  \\\n",
       "0               Australia and Oceania             Palau      651.21   \n",
       "1                              Europe            Poland       47.45   \n",
       "2                       North America            Canada      205.70   \n",
       "3                              Europe           Belarus      152.58   \n",
       "4        Middle East and North Africa              Oman      205.70   \n",
       "...                               ...               ...         ...   \n",
       "4999995  Middle East and North Africa              Iraq      668.27   \n",
       "4999996                        Europe            Monaco      421.89   \n",
       "4999997         Australia and Oceania   Solomon Islands      109.28   \n",
       "4999998         Australia and Oceania  Marshall Islands      437.20   \n",
       "4999999                        Europe            Greece      651.21   \n",
       "\n",
       "          Order ID Order Date  \n",
       "0        517073523   3/6/2016  \n",
       "1        380507028  4/18/2010  \n",
       "2        504055583   1/8/2015  \n",
       "3        954955518  1/19/2014  \n",
       "4        970755660  4/26/2019  \n",
       "...            ...        ...  \n",
       "4999995  940436398  3/17/2014  \n",
       "4999996  407689177  11/8/2015  \n",
       "4999997  727000367   6/1/2020  \n",
       "4999998  714043796  2/12/2020  \n",
       "4999999  604805791  5/11/2019  \n",
       "\n",
       "[5000000 rows x 5 columns]"
      ]
     },
     "execution_count": 13,
     "metadata": {},
     "output_type": "execute_result"
    }
   ],
   "source": [
    "data_df"
   ]
  },
  {
   "cell_type": "code",
   "execution_count": 14,
   "id": "59b803bd",
   "metadata": {},
   "outputs": [],
   "source": [
    "data_df_ge = ge.dataset.PandasDataset(data_df)"
   ]
  },
  {
   "cell_type": "code",
   "execution_count": null,
   "id": "e10717d5",
   "metadata": {},
   "outputs": [],
   "source": [
    "data_df_ge['Order Date'] = pd.to_datetime(data_df_ge['Order Date']).dt.strftime(\"%Y/%m/%d\")"
   ]
  },
  {
   "cell_type": "code",
   "execution_count": null,
   "id": "506204c6",
   "metadata": {},
   "outputs": [],
   "source": [
    "data_df_ge['Unit Price'].map('{:.4f}'.format)"
   ]
  },
  {
   "cell_type": "code",
   "execution_count": null,
   "id": "703fbc06",
   "metadata": {},
   "outputs": [],
   "source": [
    "data_df_ge2 = data_df_ge[:3]"
   ]
  },
  {
   "cell_type": "code",
   "execution_count": null,
   "id": "d02b2b93",
   "metadata": {},
   "outputs": [],
   "source": [
    "type(data_df_ge2)"
   ]
  },
  {
   "cell_type": "code",
   "execution_count": null,
   "id": "1d593032",
   "metadata": {
    "scrolled": true
   },
   "outputs": [],
   "source": [
    "data_df_ge2"
   ]
  },
  {
   "cell_type": "code",
   "execution_count": null,
   "id": "d65e924a",
   "metadata": {},
   "outputs": [],
   "source": [
    "data_df_ge2.expect_column_values_to_be_in_set('Country',list(data_df_ge.Country),result_format={'result_format':'COMPLETE'})"
   ]
  },
  {
   "cell_type": "code",
   "execution_count": null,
   "id": "91e5b733",
   "metadata": {},
   "outputs": [],
   "source": []
  },
  {
   "cell_type": "code",
   "execution_count": null,
   "id": "00fd68af",
   "metadata": {},
   "outputs": [],
   "source": []
  }
 ],
 "metadata": {
  "kernelspec": {
   "display_name": "Python 3 (ipykernel)",
   "language": "python",
   "name": "python3"
  },
  "language_info": {
   "codemirror_mode": {
    "name": "ipython",
    "version": 3
   },
   "file_extension": ".py",
   "mimetype": "text/x-python",
   "name": "python",
   "nbconvert_exporter": "python",
   "pygments_lexer": "ipython3",
   "version": "3.9.7"
  }
 },
 "nbformat": 4,
 "nbformat_minor": 5
}
